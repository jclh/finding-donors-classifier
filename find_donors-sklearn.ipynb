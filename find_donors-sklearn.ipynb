{
 "cells": [
  {
   "cell_type": "markdown",
   "metadata": {},
   "source": [
    "# Finding Donors for CharityML <a class=\"tocSkip\">\n",
    "## Evaluating classifiers in `scikit-learn` <a class=\"tocSkip\">\n",
    "---"
   ]
  },
  {
   "cell_type": "markdown",
   "metadata": {},
   "source": [
    "## Motivation\n",
    "\n",
    "### Economic or Business question\n",
    "\n",
    "The goal of the project is to build a tool that predicts whether an individual makes more than \\$50,000 per year. This sort of task can arise in a non-profit setting, where organizations survive on donations and have limited resources for fund-raising. Estimating people's income can help the non-profit make their fund-raising more cost-effective; for example, deciding whether to reach out at all to a potential donor. \n",
    "\n",
    "### Data Science motivation \n",
    "\n",
    "In this project I use several supervised algorithms included in the `scikit-learn` package to model person-level income using data collected from the 1994 U.S. Census. First, I obtain preliminary results from a set of algorithms. Second, I choose the best candidate algorithm and further optimize it to best model the data. \n",
    "\n",
    "The dataset for this project originates from the [UCI Machine Learning Repository](https://archive.ics.uci.edu/ml/datasets/Census+Income). The dataset was donated by Ron Kohavi and Barry Becker, after being published in the article _\"Scaling Up the Accuracy of Naive-Bayes Classifiers: A Decision-Tree Hybrid\"_. You can find the article by Ron Kohavi [online](https://www.aaai.org/Papers/KDD/1996/KDD96-033.pdf). The data here incorporates small changes to the original dataset, such as removing the `'fnlwgt'` feature and records with missing or ill-formatted entries."
   ]
  },
  {
   "cell_type": "markdown",
   "metadata": {},
   "source": [
    "---\n",
    "## Import Python tools and data"
   ]
  },
  {
   "cell_type": "code",
   "execution_count": 1,
   "metadata": {},
   "outputs": [
    {
     "name": "stdout",
     "output_type": "stream",
     "text": [
      "3.7.1 (default, Oct 23 2018, 14:07:42) \n",
      "[Clang 4.0.1 (tags/RELEASE_401/final)]\n"
     ]
    }
   ],
   "source": [
    "# Import libraries necessary for this project\n",
    "import sys \n",
    "import numpy as np\n",
    "import pandas as pd\n",
    "from time import time\n",
    "from IPython.display import display\n",
    "\n",
    "# Import supplementary code: visuals.py\n",
    "import visuals as vs\n",
    "# Autoreload 'visuals' when changes are made\n",
    "%load_ext autoreload\n",
    "%autoreload 1\n",
    "%aimport visuals\n",
    "\n",
    "# Pretty display for Jupyter notebooks\n",
    "%matplotlib inline\n",
    "\n",
    "# Print Python version for future reference\n",
    "print(sys.version)"
   ]
  },
  {
   "cell_type": "markdown",
   "metadata": {},
   "source": [
    "### Load dataset"
   ]
  },
  {
   "cell_type": "code",
   "execution_count": 2,
   "metadata": {},
   "outputs": [],
   "source": [
    "# Load the Census dataset\n",
    "data = pd.read_csv(\"census.csv\")"
   ]
  },
  {
   "cell_type": "markdown",
   "metadata": {},
   "source": [
    "---\n",
    "## Understanding the 1994 Census data\n",
    "\n",
    "The project relies on one dataset:\n",
    "\n",
    "> `census.csv`: Extraction was done by Barry Becker from the 1994 Census database. A set of reasonably clean records was extracted using the following conditions: ((AAGE>16) && (AGI>100) && (AFNLWGT>1)&& (HRSWK>0)). More details [here](https://archive.ics.uci.edu/ml/datasets/Census+Income).\n",
    "\n",
    "### Outcome\n",
    "\n",
    "* `'income'`: >50K, <=50K. \n",
    "\n",
    "### Attribute information\n",
    "\n",
    "* `'age'`: continuous.\n",
    "* `'workclass'`: Private, Self-emp-not-inc, Self-emp-inc, Federal-gov, Local-gov, State-gov, Without-pay, Never-worked. \n",
    "* `'education'`: Bachelors, Some-college, 11th, HS-grad, Prof-school, Assoc-acdm, Assoc-voc, 9th, 7th-8th, 12th, Masters, 1st-4th, 10th, Doctorate, 5th-6th, Preschool. \n",
    "* `'education-num'`: continuous. \n",
    "* `'marital-status'`: Married-civ-spouse, Divorced, Never-married, Separated, Widowed, Married-spouse-absent, Married-AF-spouse. \n",
    "* `'occupation'`: Tech-support, Craft-repair, Other-service, Sales, Exec-managerial, Prof-specialty, Handlers-cleaners, Machine-op-inspct, Adm-clerical, Farming-fishing, Transport-moving, Priv-house-serv, Protective-serv, Armed-Forces. \n",
    "* `'relationship'`: Wife, Own-child, Husband, Not-in-family, Other-relative, Unmarried. \n",
    "* `'race'`: White, Asian-Pac-Islander, Amer-Indian-Eskimo, Other, Black. \n",
    "* `'sex'`: Female, Male. \n",
    "* `'capital-gain'`: continuous. \n",
    "* `'capital-loss'`: continuous. \n",
    "* `'hours-per-week'`: continuous. \n",
    "* `'native-country'`: United-States, Cambodia, England, Puerto-Rico, Canada, Germany, Outlying-US(Guam-USVI-etc), India, Japan, Greece, South, China, Cuba, Iran, Honduras, Philippines, Italy, Poland, Jamaica, Vietnam, Mexico, Portugal, Ireland, France, Dominican-Republic, Laos, Ecuador, Taiwan, Haiti, Columbia, Hungary, Guatemala, Nicaragua, Scotland, Thailand, Yugoslavia, El-Salvador, Trinadad&Tobago, Peru, Hong, Holand-Netherlands."
   ]
  },
  {
   "cell_type": "markdown",
   "metadata": {},
   "source": [
    "### High-level data assessment\n",
    "\n",
    "A cursory investigation of the dataset will determine how many individuals fit into either income group. In the code cells below, I compute the following:\n",
    "\n",
    "* The total number of records, `'n_records'`\n",
    "* The number of individuals making more than \\\\$50,000 annually, `'n_greater_50k'`.\n",
    "* The number of individuals making at most \\\\$50,000 annually, `'n_at_most_50k'`.\n",
    "* The percentage of individuals making more than \\\\$50,000 annually, `'greater_percent'`."
   ]
  },
  {
   "cell_type": "code",
   "execution_count": 3,
   "metadata": {},
   "outputs": [
    {
     "data": {
      "text/html": [
       "<div>\n",
       "<style scoped>\n",
       "    .dataframe tbody tr th:only-of-type {\n",
       "        vertical-align: middle;\n",
       "    }\n",
       "\n",
       "    .dataframe tbody tr th {\n",
       "        vertical-align: top;\n",
       "    }\n",
       "\n",
       "    .dataframe thead th {\n",
       "        text-align: right;\n",
       "    }\n",
       "</style>\n",
       "<table border=\"1\" class=\"dataframe\">\n",
       "  <thead>\n",
       "    <tr style=\"text-align: right;\">\n",
       "      <th></th>\n",
       "      <th>age</th>\n",
       "      <th>workclass</th>\n",
       "      <th>education_level</th>\n",
       "      <th>education-num</th>\n",
       "      <th>marital-status</th>\n",
       "      <th>occupation</th>\n",
       "      <th>relationship</th>\n",
       "      <th>race</th>\n",
       "      <th>sex</th>\n",
       "      <th>capital-gain</th>\n",
       "      <th>capital-loss</th>\n",
       "      <th>hours-per-week</th>\n",
       "      <th>native-country</th>\n",
       "      <th>income</th>\n",
       "    </tr>\n",
       "  </thead>\n",
       "  <tbody>\n",
       "    <tr>\n",
       "      <th>0</th>\n",
       "      <td>39</td>\n",
       "      <td>State-gov</td>\n",
       "      <td>Bachelors</td>\n",
       "      <td>13.0</td>\n",
       "      <td>Never-married</td>\n",
       "      <td>Adm-clerical</td>\n",
       "      <td>Not-in-family</td>\n",
       "      <td>White</td>\n",
       "      <td>Male</td>\n",
       "      <td>2174.0</td>\n",
       "      <td>0.0</td>\n",
       "      <td>40.0</td>\n",
       "      <td>United-States</td>\n",
       "      <td>&lt;=50K</td>\n",
       "    </tr>\n",
       "  </tbody>\n",
       "</table>\n",
       "</div>"
      ],
      "text/plain": [
       "   age   workclass education_level  education-num  marital-status  \\\n",
       "0   39   State-gov       Bachelors           13.0   Never-married   \n",
       "\n",
       "      occupation    relationship    race    sex  capital-gain  capital-loss  \\\n",
       "0   Adm-clerical   Not-in-family   White   Male        2174.0           0.0   \n",
       "\n",
       "   hours-per-week  native-country income  \n",
       "0            40.0   United-States  <=50K  "
      ]
     },
     "metadata": {},
     "output_type": "display_data"
    },
    {
     "name": "stdout",
     "output_type": "stream",
     "text": [
      "The census dataset includes \n",
      "14 attributes for 45,222 individuals.\n"
     ]
    }
   ],
   "source": [
    "# Display the first record\n",
    "display(data.head(n=1))\n",
    "\n",
    "# Print dataset shape\n",
    "print(\"The census dataset includes \\n{} attributes for {:,} individuals.\"\\\n",
    "      .format(data.shape[1], data.shape[0]))"
   ]
  },
  {
   "cell_type": "code",
   "execution_count": 4,
   "metadata": {},
   "outputs": [
    {
     "name": "stdout",
     "output_type": "stream",
     "text": [
      "Total number of records:\n",
      "45,222\n",
      "Individuals making more than $50,000:\n",
      "11,208\n",
      "Individuals making at most $50,000:\n",
      "34,014\n",
      "Percentage of individuals making more than $50,000:\n",
      "24.78%\n"
     ]
    }
   ],
   "source": [
    "# Total number of records\n",
    "n_records = data.shape[0]\n",
    "\n",
    "# Number of records where income is more than $50,000\n",
    "n_greater_50k = len(data['income'][data['income'] == '>50K'])\n",
    "\n",
    "# Number of records where income is at most $50,000\n",
    "n_at_most_50k = len(data['income'][data['income'] == '<=50K'])\n",
    "\n",
    "# Percentage of individuals whose income is more than $50,000\n",
    "greater_percent = n_greater_50k / n_records * 100\n",
    "\n",
    "# Print the results\n",
    "print(\"Total number of records:\\n{:,}\".format(n_records))\n",
    "print(\"Individuals making more than $50,000:\\n{:,}\"\\\n",
    "      .format(n_greater_50k))\n",
    "print(\"Individuals making at most $50,000:\\n{:,}\"\\\n",
    "      .format(n_at_most_50k))\n",
    "print(\"Percentage of individuals making more than $50,000:\\n{:3.2f}%\"\\\n",
    "      .format(greater_percent))"
   ]
  },
  {
   "cell_type": "markdown",
   "metadata": {},
   "source": [
    "### Split data into outcome and features"
   ]
  },
  {
   "cell_type": "code",
   "execution_count": 5,
   "metadata": {},
   "outputs": [],
   "source": [
    "# Split outcome and features\n",
    "income_raw = data['income']\n",
    "features_raw = data.drop('income', axis = 1)"
   ]
  },
  {
   "cell_type": "markdown",
   "metadata": {},
   "source": [
    "---\n",
    "## Preprocess data for algorithms \n",
    "\n",
    "Before data can be used as input for machine learning algorithms, it often must be cleaned, formatted, and restructured. This process is typically known as **preprocessing**. \n",
    "\n",
    "Fortunately, this dataset has been partially preprocessed so there are no invalid or missing entries I must deal with; however, there are some qualities about certain features that must be adjusted. The preprocessing techniques below can improve the predictive power of nearly all learning algorithms."
   ]
  },
  {
   "cell_type": "markdown",
   "metadata": {},
   "source": [
    "### Transform skewed continuous features\n",
    "\n",
    "Algorithms can be sensitive to skewed distributions of values and can underperform if the range is not properly normalized. With the census dataset, two features fit this description: '`capital-gain'` and `'capital-loss'`."
   ]
  },
  {
   "cell_type": "code",
   "execution_count": 6,
   "metadata": {},
   "outputs": [
    {
     "data": {
      "image/png": "[encoded data removed]",
      "text/plain": [
       "<Figure size 792x360 with 2 Axes>"
      ]
     },
     "metadata": {
      "needs_background": "light"
     },
     "output_type": "display_data"
    }
   ],
   "source": [
    "# Visualize skewed continuous features of original data\n",
    "vs.distribution(data)"
   ]
  },
  {
   "cell_type": "markdown",
   "metadata": {},
   "source": [
    "For highly-skewed feature distributions such as `'capital-gain'` and `'capital-loss'`, it is common practice to apply a *logarithmic transformation* on the data so that the very large and very small values do not negatively affect the performance of a learning algorithm. Using a logarithmic transformation reduces the range of values by \"pulling in\" outliers."
   ]
  },
  {
   "cell_type": "code",
   "execution_count": 7,
   "metadata": {},
   "outputs": [
    {
     "data": {
      "image/png": "[encoded data removed]",
      "text/plain": [
       "<Figure size 792x360 with 2 Axes>"
      ]
     },
     "metadata": {
      "needs_background": "light"
     },
     "output_type": "display_data"
    }
   ],
   "source": [
    "# Create new DataFrame for transformed data\n",
    "skewed = ['capital-gain', 'capital-loss']\n",
    "features_log_transformed = pd.DataFrame(data = features_raw)\n",
    "\n",
    "# Log-transform the skewed features\n",
    "# Note: add `1` to quantities to avoid log(0)\n",
    "features_log_transformed[skewed] = features_raw[skewed]\\\n",
    "    .apply(lambda x: np.log(x + 1))\n",
    "\n",
    "# Visualize the new log distributions\n",
    "vs.distribution(features_log_transformed, transformed = True)"
   ]
  },
  {
   "cell_type": "markdown",
   "metadata": {},
   "source": [
    "### Scale numerical features\n",
    "\n",
    "It is often good practice to perform some type of scaling on numerical features. Scaling the data does not change the shape of each feature's distribution, in the way we saw above with `'capital-gain'` or `'capital-loss'`. However, consistent scaling ensures that each feature is treated equally by the algorithms. \n",
    "\n",
    "The algorithm used to scale the numerical features below is `sklearn.preprocessing.MinMaxScaler` ([docs](https://scikit-learn.org/stable/modules/generated/sklearn.preprocessing.MinMaxScaler.html))."
   ]
  },
  {
   "cell_type": "code",
   "execution_count": 8,
   "metadata": {},
   "outputs": [
    {
     "name": "stderr",
     "output_type": "stream",
     "text": [
      "/Users/JCLH/miniconda3/envs/datascientist-nd/lib/python3.7/site-packages/sklearn/preprocessing/data.py:323: DataConversionWarning: Data with input dtype int64, float64 were all converted to float64 by MinMaxScaler.\n",
      "  return self.partial_fit(X, y)\n"
     ]
    },
    {
     "data": {
      "text/html": [
       "<div>\n",
       "<style scoped>\n",
       "    .dataframe tbody tr th:only-of-type {\n",
       "        vertical-align: middle;\n",
       "    }\n",
       "\n",
       "    .dataframe tbody tr th {\n",
       "        vertical-align: top;\n",
       "    }\n",
       "\n",
       "    .dataframe thead th {\n",
       "        text-align: right;\n",
       "    }\n",
       "</style>\n",
       "<table border=\"1\" class=\"dataframe\">\n",
       "  <thead>\n",
       "    <tr style=\"text-align: right;\">\n",
       "      <th></th>\n",
       "      <th>age</th>\n",
       "      <th>workclass</th>\n",
       "      <th>education_level</th>\n",
       "      <th>education-num</th>\n",
       "      <th>marital-status</th>\n",
       "      <th>occupation</th>\n",
       "      <th>relationship</th>\n",
       "      <th>race</th>\n",
       "      <th>sex</th>\n",
       "      <th>capital-gain</th>\n",
       "      <th>capital-loss</th>\n",
       "      <th>hours-per-week</th>\n",
       "      <th>native-country</th>\n",
       "    </tr>\n",
       "  </thead>\n",
       "  <tbody>\n",
       "    <tr>\n",
       "      <th>0</th>\n",
       "      <td>0.301370</td>\n",
       "      <td>State-gov</td>\n",
       "      <td>Bachelors</td>\n",
       "      <td>0.800000</td>\n",
       "      <td>Never-married</td>\n",
       "      <td>Adm-clerical</td>\n",
       "      <td>Not-in-family</td>\n",
       "      <td>White</td>\n",
       "      <td>Male</td>\n",
       "      <td>0.667492</td>\n",
       "      <td>0.0</td>\n",
       "      <td>0.397959</td>\n",
       "      <td>United-States</td>\n",
       "    </tr>\n",
       "    <tr>\n",
       "      <th>1</th>\n",
       "      <td>0.452055</td>\n",
       "      <td>Self-emp-not-inc</td>\n",
       "      <td>Bachelors</td>\n",
       "      <td>0.800000</td>\n",
       "      <td>Married-civ-spouse</td>\n",
       "      <td>Exec-managerial</td>\n",
       "      <td>Husband</td>\n",
       "      <td>White</td>\n",
       "      <td>Male</td>\n",
       "      <td>0.000000</td>\n",
       "      <td>0.0</td>\n",
       "      <td>0.122449</td>\n",
       "      <td>United-States</td>\n",
       "    </tr>\n",
       "    <tr>\n",
       "      <th>2</th>\n",
       "      <td>0.287671</td>\n",
       "      <td>Private</td>\n",
       "      <td>HS-grad</td>\n",
       "      <td>0.533333</td>\n",
       "      <td>Divorced</td>\n",
       "      <td>Handlers-cleaners</td>\n",
       "      <td>Not-in-family</td>\n",
       "      <td>White</td>\n",
       "      <td>Male</td>\n",
       "      <td>0.000000</td>\n",
       "      <td>0.0</td>\n",
       "      <td>0.397959</td>\n",
       "      <td>United-States</td>\n",
       "    </tr>\n",
       "    <tr>\n",
       "      <th>3</th>\n",
       "      <td>0.493151</td>\n",
       "      <td>Private</td>\n",
       "      <td>11th</td>\n",
       "      <td>0.400000</td>\n",
       "      <td>Married-civ-spouse</td>\n",
       "      <td>Handlers-cleaners</td>\n",
       "      <td>Husband</td>\n",
       "      <td>Black</td>\n",
       "      <td>Male</td>\n",
       "      <td>0.000000</td>\n",
       "      <td>0.0</td>\n",
       "      <td>0.397959</td>\n",
       "      <td>United-States</td>\n",
       "    </tr>\n",
       "    <tr>\n",
       "      <th>4</th>\n",
       "      <td>0.150685</td>\n",
       "      <td>Private</td>\n",
       "      <td>Bachelors</td>\n",
       "      <td>0.800000</td>\n",
       "      <td>Married-civ-spouse</td>\n",
       "      <td>Prof-specialty</td>\n",
       "      <td>Wife</td>\n",
       "      <td>Black</td>\n",
       "      <td>Female</td>\n",
       "      <td>0.000000</td>\n",
       "      <td>0.0</td>\n",
       "      <td>0.397959</td>\n",
       "      <td>Cuba</td>\n",
       "    </tr>\n",
       "  </tbody>\n",
       "</table>\n",
       "</div>"
      ],
      "text/plain": [
       "        age          workclass education_level  education-num  \\\n",
       "0  0.301370          State-gov       Bachelors       0.800000   \n",
       "1  0.452055   Self-emp-not-inc       Bachelors       0.800000   \n",
       "2  0.287671            Private         HS-grad       0.533333   \n",
       "3  0.493151            Private            11th       0.400000   \n",
       "4  0.150685            Private       Bachelors       0.800000   \n",
       "\n",
       "        marital-status          occupation    relationship    race      sex  \\\n",
       "0        Never-married        Adm-clerical   Not-in-family   White     Male   \n",
       "1   Married-civ-spouse     Exec-managerial         Husband   White     Male   \n",
       "2             Divorced   Handlers-cleaners   Not-in-family   White     Male   \n",
       "3   Married-civ-spouse   Handlers-cleaners         Husband   Black     Male   \n",
       "4   Married-civ-spouse      Prof-specialty            Wife   Black   Female   \n",
       "\n",
       "   capital-gain  capital-loss  hours-per-week  native-country  \n",
       "0      0.667492           0.0        0.397959   United-States  \n",
       "1      0.000000           0.0        0.122449   United-States  \n",
       "2      0.000000           0.0        0.397959   United-States  \n",
       "3      0.000000           0.0        0.397959   United-States  \n",
       "4      0.000000           0.0        0.397959            Cuba  "
      ]
     },
     "metadata": {},
     "output_type": "display_data"
    }
   ],
   "source": [
    "# Import sklearn.preprocessing.MinMaxScaler\n",
    "from sklearn.preprocessing import MinMaxScaler\n",
    "\n",
    "# Instantiate a scaler\n",
    "scaler = MinMaxScaler(feature_range=(0, 1))\n",
    "numerical = ['age', 'education-num', 'capital-gain', 'capital-loss', \n",
    "             'hours-per-week']\n",
    "\n",
    "# Fit scaler and store in new DF\n",
    "features_minmax_transform = pd.DataFrame(data=features_log_transformed)\n",
    "features_minmax_transform[numerical] = scaler.fit_transform(\n",
    "    X=features_log_transformed[numerical])\n",
    "\n",
    "# Show an example of a record with scaling applied\n",
    "display(features_minmax_transform.head(n = 5))"
   ]
  },
  {
   "cell_type": "markdown",
   "metadata": {},
   "source": [
    "Note that once scaling is applied, observing the data in its raw form will no longer have the same original meaning. For example, see the `'age'` data above; the original unit (i.e., years) has been lost after the transformation. "
   ]
  },
  {
   "cell_type": "markdown",
   "metadata": {},
   "source": [
    "### One-hot encode categorical features\n",
    "\n",
    "Learning algorithms typically expect input to be numeric, which requires us to convert non-numeric, categorical features. A widely used way to convert categorical variables is by using **one-hot encoding**: which creates a *\"dummy\"* binary variable for each possible category of each feature.\n",
    "\n",
    "Additionally, we need to convert the non-numeric target label, `'income'` to numerical values for the learning algorithm to work. Since there are only two possible categories for this label (\"<=50K\" and \">50K\"), we can avoid using one-hot encoding and simply encode these two categories as `0` and `1`, respectively."
   ]
  },
  {
   "cell_type": "code",
   "execution_count": 9,
   "metadata": {
    "scrolled": true
   },
   "outputs": [
    {
     "name": "stdout",
     "output_type": "stream",
     "text": [
      "Number of features after one-hot encoding:  103\n"
     ]
    }
   ],
   "source": [
    "# One-hot encode data using pandas.get_dummies()\n",
    "features_final = pd.get_dummies(features_minmax_transform)\n",
    "\n",
    "# Encode the 'income_raw' data to numerical values\n",
    "income = income_raw.apply(lambda x: 0 if x == '<=50K' else 1)\n",
    "\n",
    "# Print the number of features after one-hot encoding\n",
    "encoded = list(features_final.columns)\n",
    "print(\"Number of features after one-hot encoding:  {}\"\\\n",
    "      .format(len(encoded)))"
   ]
  },
  {
   "cell_type": "markdown",
   "metadata": {},
   "source": [
    "### Shuffle and split data for training and testing\n",
    "\n",
    "Here I split the data — both features and labels — into training and test sets. 80% of the data will be used for training and 20% for testing."
   ]
  },
  {
   "cell_type": "code",
   "execution_count": 10,
   "metadata": {
    "scrolled": true
   },
   "outputs": [
    {
     "name": "stdout",
     "output_type": "stream",
     "text": [
      "Training set has 36,177 samples.\n",
      "Testing set has 9,045 samples.\n"
     ]
    }
   ],
   "source": [
    "# Import train_test_split\n",
    "from sklearn.model_selection import train_test_split\n",
    "\n",
    "# Split the 'features' and 'income' data into training and testing sets\n",
    "X_train, X_test, y_train, y_test = train_test_split(features_final, \n",
    "                                                    income, \n",
    "                                                    test_size = 0.2, \n",
    "                                                    random_state = 0)\n",
    "\n",
    "# Show the results of the split\n",
    "print(\"Training set has {:,} samples.\".format(X_train.shape[0]))\n",
    "print(\"Testing set has {:,} samples.\".format(X_test.shape[0]))"
   ]
  },
  {
   "cell_type": "markdown",
   "metadata": {},
   "source": [
    "----\n",
    "## How to evaluate and compare a set of models\n",
    "\n",
    "In this section, I will get preliminary results from four different algorithms — including a *naive* predictor — and will determine which is best for this tool."
   ]
  },
  {
   "cell_type": "markdown",
   "metadata": {},
   "source": [
    "### Model evaluation metrics\n",
    "\n",
    "The underlying conceptual assumption in this application is that people who make more \\\\$50,000 per year are most likely to donate to their charity. Therefore, the main objective is to accurately predict this category (i.e., more than \\\\$50,000). Additionally, because a main objective is to maximize the cost-effectiveness of fundraising efforts, it would be detrimental to mistakenly identify someone that does not make more than \\\\$50,000 as someone who does. \n",
    "\n",
    "Looking at the distribution of the two income categories, it's clear most individuals do not make more than \\\\$50,000. This can substantially affect model *accuracy* and make it an inappropriate model evaluation metric. \n",
    "\n",
    "For classification problems that are skewed in their outcome distributions, accuracy by itself is not a sufficient metric. *Precision* and *recall* come in very handy. These two metrics can be combined to get the *F-beta score*, which is a weighted average of the precision and recall scores. \n",
    "\n",
    "$$ F_{\\beta} = (1 + \\beta^2) \\cdot \\frac{precision \\cdot recall}{\\left( \\beta^2 \\cdot precision \\right) + recall} $$"
   ]
  },
  {
   "cell_type": "markdown",
   "metadata": {},
   "source": [
    "### Naive predictor\n",
    "\n",
    "> If we chose a model that always predicted an individual made more than \\\\$50,000, what would be that model's **accuracy** and **F-score** be on this dataset?\n",
    "\n",
    "The purpose of generating a naive predictor like this one is to obtain the performance of a base model, without statistical learning. In a real application, the base model would be either a previously fitted algorithm or some known domain."
   ]
  },
  {
   "cell_type": "code",
   "execution_count": 11,
   "metadata": {},
   "outputs": [
    {
     "name": "stdout",
     "output_type": "stream",
     "text": [
      "Naive Predictor: [Accuracy score: 0.2478, F-score: 0.2917]\n"
     ]
    }
   ],
   "source": [
    "# Calculate accuracy, precision and recall\n",
    "accuracy = np.sum(income) / income.count()\n",
    "recall = np.sum(income) / np.sum(income)\n",
    "precision = np.sum(income) / income.count() \n",
    "\n",
    "# Calculate F-score using beta = 0.5 \n",
    "beta = 0.5\n",
    "fscore = (1 + beta**2) * precision*recall / (beta**2*precision + recall)\n",
    "\n",
    "# Print the results \n",
    "print(\"Naive Predictor: [Accuracy score: {:.4f}, F-score: {:.4f}]\"\\\n",
    "      .format(accuracy, fscore))"
   ]
  },
  {
   "cell_type": "markdown",
   "metadata": {},
   "source": [
    "### Classification models in `scikit-learn`\n",
    "\n",
    "The following are some of the classifications algorithms that are currently available in [`scikit-learn`](http://scikit-learn.org/stable/supervised_learning.html):\n",
    "\n",
    "* Gaussian Naive Bayes (GaussianNB)\n",
    "* Decision Tree Classifier\n",
    "* Ensemble Methods (Bagging, AdaBoost, Random Forest, Gradient Boosting)\n",
    "* K-Nearest Neighbors (KNeighbors)\n",
    "* Stochastic Gradient Descent Classifier (SGDC)\n",
    "* Support Vector Machines (SVM)\n",
    "* Logistic Regression\n",
    "\n",
    "In the sections below I choose three of these algorithms and, for each one, I address the following questions:\n",
    "\n",
    "1. Describe an appropriate, real-world application for the model class.\n",
    "2. What are the strengths of the model; when does it perform well?\n",
    "3. What are the weaknesses of the model; when does it perform poorly?\n",
    "4. What makes the model a good candidate for this particular tool and data?"
   ]
  },
  {
   "cell_type": "markdown",
   "metadata": {},
   "source": [
    "### Logistic Regression\n",
    "\n",
    "#### Example of application\n",
    "\n",
    "Logistic regression is commonly applied in social science problems, where binary outcomes — e.g., \"employed\" vs \"unempoyed\" — are modeled as a function of a limited number of features; typically, giving one *independent variable* a causal interpretation. \n",
    "\n",
    "#### Strengths of the model\n",
    "\n",
    "Logistic regression can be a simple, fast, and interpretable algorithm. It performs well when the features are roughly linear or when they can be transformed into a linear form. \n",
    "\n",
    "For research purposes, logistic regression is convenient because it can go beyond discrete classification predictions: the output can be interpreted as a vector of conditional probabilities.   \n",
    "\n",
    "#### Weaknesses of the model\n",
    "\n",
    "Logistic regression performs poorly when problems are not linearly separable; for example, when the outcome is associated with a nonlinear and non-monotonic function of the features. \n",
    "\n",
    "Also, the basic algorithm does not perform automatic feature selection.\n",
    "\n",
    "#### Appropriateness for this project\n",
    "\n",
    "Logistic regression is generally an appropriate, simple, and well-behaved model to start with — especially in a classification problem with two possible outcomes like this one.\n",
    "\n",
    "**References:**\n",
    "- [Quora: What are the advantages of different classification algorithms?](\n",
    "https://www.quora.com/What-are-the-advantages-of-different-classification-algorithms)\n",
    "- James, G., Witten, D., Hastie, T. and Tibshirani, R., 2013. An introduction to statistical learning (Vol. 112). New York: Springer."
   ]
  },
  {
   "cell_type": "markdown",
   "metadata": {},
   "source": [
    "### Decision Tree Classifier\n",
    "\n",
    "#### Example of application\n",
    "\n",
    "Decision Trees are commonly applied in biostatistical problems. For example, in predicting whether a health condition is present or absent based on a limited number of measurements and tests. In these cases, decision trees can be used to investigate heterogeneity in the response to some treatment by dividing the data into relevant strata; for instance, groups based on age or other segmentation of risk factors.\n",
    "\n",
    "#### Strengths of the model\n",
    "\n",
    "Decision Trees outperform the classic logistic regression model if there is a highly non-linear and complex relationship between the features and the response. Also, trees can be displayed graphically and are easily interpreted, especially if they are small.\n",
    "\n",
    "#### Weaknesses of the model\n",
    "\n",
    "Decision Trees can easily *overfit*, and generally do not have the same level of testing performance as some of the other classification approaches. Moreover, trees can be non-robust; that is, a small change in the data can cause a large change in the final estimated tree.\n",
    "\n",
    "#### Appropriateness for this project\n",
    "\n",
    "The feature set in this application is relatively small and contains many categorical variables, which are easily handled by Decision Trees. The resulting graphical representation of the tree can be used by the marketing practitioners and fund-raisers at the charity to make their outreach decisions. \n",
    "\n",
    "**References:**\n",
    "- James, G., Witten, D., Hastie, T. and Tibshirani, R., 2013. An introduction to statistical learning (Vol. 112). New York: Springer."
   ]
  },
  {
   "cell_type": "markdown",
   "metadata": {},
   "source": [
    "### AdaBoost Classifier\n",
    "\n",
    "#### Example of application\n",
    "\n",
    "The AdaBoost Classifier can be applied to text filtering and other classification problems that are common in natural language processing.\n",
    "\n",
    "#### Strengths of the model\n",
    "\n",
    "AdaBoost has many practical advantages: \n",
    "* it is fast and easy to program; \n",
    "* it has few parameters to tune; \n",
    "* it requires no prior knowledge about the weak learner, so it can be flexibly combined with any method for finding weak hypotheses.\n",
    "\n",
    "#### Weaknesses of the model\n",
    "\n",
    "The main weakness of all boosting algorithms is plausible susceptibility to noise and outliers. \n",
    "\n",
    "#### Appropriateness for this project\n",
    "\n",
    "The dataset we are working with — after the preprocessing step — is not the type of data that is generally plagued with noise and substantial outliers, so AdaBoost is a reasonable match for this application.\n",
    "\n",
    "**References:**\n",
    "- Freund, Y., Schapire, R. and Abe, N., 1999. A short introduction to boosting. Journal-Japanese Society For Artificial Intelligence, 14(771-780), p.1612."
   ]
  },
  {
   "cell_type": "markdown",
   "metadata": {},
   "source": [
    "### Creating a model evaluation pipeline\n",
    "\n",
    "To properly evaluate the performance of each model, it's important to have a train and predict pipeline that allows quick and effective model training, using various sizes of training data, and performs predictions on the testing data."
   ]
  },
  {
   "cell_type": "code",
   "execution_count": 12,
   "metadata": {
    "code_folding": [
     0
    ]
   },
   "outputs": [],
   "source": [
    "# Import metrics from sklearn - fbeta_score and accuracy_score\n",
    "from sklearn.metrics import fbeta_score, accuracy_score\n",
    "\n",
    "def train_predict(learner, sample_size, X_train, y_train, X_test, y_test): \n",
    "    '''Pipeline to train model and score predictions\n",
    "    \n",
    "    Args:\n",
    "        learner (sklearn model): algorithm to be trained and scored\n",
    "        sample_size (int): number of samples to draw from training set\n",
    "        X_train (Pandas DF): features training set\n",
    "        y_train (Pandas series): income training set\n",
    "        X_test (Pandas DF): features testing set\n",
    "        y_test (Pandas series): income testing set\n",
    "       \n",
    "    '''\n",
    "    # Instantiate results dict\n",
    "    results = dict()\n",
    "    \n",
    "    # Parameters for sampling training data\n",
    "    train_size = X_train.shape[0]\n",
    "    sample_index = np.random.RandomState(42)\\\n",
    "        .randint(low=0, high=train_size, size=sample_size)\n",
    "    \n",
    "    # Sample training data\n",
    "    X_train_sampled = X_train.iloc[sample_index]\n",
    "    y_train_sampled = y_train.iloc[sample_index]\n",
    "    \n",
    "    # Fit learner to training data\n",
    "    start = time() # Get start time\n",
    "    learner.fit(X=X_train_sampled, y=y_train_sampled)\n",
    "    end = time() # Get end time\n",
    "    \n",
    "    # Calculate training time\n",
    "    results['train_time'] = end - start\n",
    "        \n",
    "    # Get predictions \n",
    "    start = time() # start time\n",
    "    # on test set (X_test)\n",
    "    predictions_test = learner.predict(X_test)\n",
    "    # on first 300 training samples (X_train)\n",
    "    predictions_train = learner.predict(X_train_sampled.iloc[0:300])\n",
    "    end = time() # end time\n",
    "    \n",
    "    # Calculate total prediction time\n",
    "    results['pred_time'] = end - start\n",
    "            \n",
    "    # Compute accuracy on first 300 training samples\n",
    "    results['acc_train'] = accuracy_score(y_train_sampled.iloc[0:300], \n",
    "                                          predictions_train)\n",
    "        \n",
    "    # Compute accuracy on test set\n",
    "    results['acc_test'] = accuracy_score(y_test, predictions_test)\n",
    "    \n",
    "    # Compute F-score on first 300 training samples\n",
    "    results['f_train'] = fbeta_score(y_train_sampled.iloc[0:300], \n",
    "                                     predictions_train, beta=0.5)\n",
    "        \n",
    "    # Compute F-score on the test set\n",
    "    results['f_test'] = fbeta_score(y_test, predictions_test, beta=0.5)\n",
    "       \n",
    "    # Success\n",
    "    print(\"{} trained on {} samples.\"\\\n",
    "          .format(learner.__class__.__name__, sample_size))\n",
    "        \n",
    "    # Return the results\n",
    "    return results"
   ]
  },
  {
   "cell_type": "markdown",
   "metadata": {},
   "source": [
    "Test the pipeline below:"
   ]
  },
  {
   "cell_type": "code",
   "execution_count": 13,
   "metadata": {
    "code_folding": []
   },
   "outputs": [
    {
     "name": "stdout",
     "output_type": "stream",
     "text": [
      "LogisticRegression trained on 1000 samples.\n"
     ]
    },
    {
     "data": {
      "text/plain": [
       "{'train_time': 0.02977895736694336,\n",
       " 'pred_time': 0.009547710418701172,\n",
       " 'acc_train': 0.8333333333333334,\n",
       " 'acc_test': 0.8290768380320619,\n",
       " 'f_train': 0.6678700361010831,\n",
       " 'f_test': 0.6534601162176439}"
      ]
     },
     "execution_count": 13,
     "metadata": {},
     "output_type": "execute_result"
    }
   ],
   "source": [
    "from sklearn.linear_model import LogisticRegression\n",
    "train_predict(LogisticRegression(solver='lbfgs', random_state=42), \n",
    "              sample_size=1000, \n",
    "              X_train=X_train, y_train=y_train, \n",
    "              X_test=X_test, y_test=y_test)"
   ]
  },
  {
   "cell_type": "markdown",
   "metadata": {},
   "source": [
    "---\n",
    "## Implementing the model evaluation pipeline\n",
    "\n",
    "The goals of this section of the project are:\n",
    "\n",
    "- Import the three supervised learning models discussed above.\n",
    "- Initialize the three models and store them in `'clf_A'`, `'clf_B'`, and `'clf_C'`.\n",
    "- Calculate and store the number of records equal to 1%, 10%, and 100% of the training data."
   ]
  },
  {
   "cell_type": "code",
   "execution_count": 14,
   "metadata": {},
   "outputs": [
    {
     "name": "stdout",
     "output_type": "stream",
     "text": [
      "LogisticRegression trained on 361 samples.\n",
      "LogisticRegression trained on 3617 samples.\n",
      "LogisticRegression trained on 36177 samples.\n",
      "DecisionTreeClassifier trained on 361 samples.\n",
      "DecisionTreeClassifier trained on 3617 samples.\n",
      "DecisionTreeClassifier trained on 36177 samples.\n",
      "AdaBoostClassifier trained on 361 samples.\n",
      "AdaBoostClassifier trained on 3617 samples.\n",
      "AdaBoostClassifier trained on 36177 samples.\n"
     ]
    },
    {
     "data": {
      "image/png": "[encoded data removed]",
      "text/plain": [
       "<Figure size 1008x576 with 6 Axes>"
      ]
     },
     "metadata": {
      "needs_background": "light"
     },
     "output_type": "display_data"
    }
   ],
   "source": [
    "# Import the three classifiers \n",
    "from sklearn.linear_model import LogisticRegression\n",
    "from sklearn.tree import DecisionTreeClassifier\n",
    "from sklearn.ensemble import AdaBoostClassifier\n",
    "\n",
    "# Initialize the three models\n",
    "clf_A = LogisticRegression(random_state=42, solver='newton-cg')\n",
    "clf_B = DecisionTreeClassifier(random_state=42)\n",
    "clf_C = AdaBoostClassifier(random_state=42)\n",
    "\n",
    "# Calculate the number of samples for 1%, 10%, and 100% of training data\n",
    "samples_100 = X_train.shape[0]\n",
    "samples_10 = int(X_train.shape[0] / 10)\n",
    "samples_1 = int(X_train.shape[0] / 100)\n",
    "\n",
    "# Collect results on the learners using the pipeline: train_predict()\n",
    "results = {}\n",
    "for clf in [clf_A, clf_B, clf_C]:\n",
    "    clf_name = clf.__class__.__name__\n",
    "    results[clf_name] = {}\n",
    "    for i, samples in enumerate([samples_1, samples_10, samples_100]):\n",
    "        results[clf_name][i] = \\\n",
    "        train_predict(clf, samples, X_train, y_train, X_test, y_test)\n",
    "\n",
    "# Run metrics visualization for the three chosen classifiers \n",
    "vs.evaluate(results, accuracy, fscore)"
   ]
  },
  {
   "cell_type": "markdown",
   "metadata": {},
   "source": [
    "---\n",
    "## Improving model performance\n",
    "\n",
    "In the final section, I choose a classifier to be used in this tool. \n",
    "\n",
    "Additionally I perform a grid-search optimization for the chosen model — tuning at least one parameter to improve upon the benchmark F-score of the model, which was calculated in the previous section."
   ]
  },
  {
   "cell_type": "markdown",
   "metadata": {},
   "source": [
    "### Choosing one of the classifiers \n",
    "\n",
    "Based on (1) my conceptual understanding of the model and (2) the results of the evaluation pipeline, I propose that the AdaBoost Classifier is an appropriate algorithm for the task of analyzing the census data and identifying individuals that make more than \\\\$50,000.\n",
    "\n",
    "The AdaBoost Classifier trained on 100\\% of the training data showed the best performance on the testing set, as measured using both accuracy score (86\\%) and F-score (73\\%).\n",
    "\n",
    "Ensemble Methods like the AdaBoost Classifier require more time to train and to make predictions as compared to simpler methods like Decision Trees. That said, the training times relevant to the dimensions of data in our application are still manageable and actually shorter than the classical Logistic Regression model.\n",
    "\n",
    "The prediction times are also substantially longer for the AdaBoostClassifier, which would be a significant problem if we needed a tool to make real-time predictions (e.g., online search and recommendation engines). In this application, the algorithm is a *backend* tool that would be used sporadically by internal analysts, so the higher prediction times should not be an important concern.\n",
    "\n",
    "The main weakness of Boosting algorithms is their plausible susceptibility to noise and outliers, which is not a significant issue with these data, after some preprocessing."
   ]
  },
  {
   "cell_type": "markdown",
   "metadata": {},
   "source": [
    "### Describing the model in non-technical language\n",
    "\n",
    "Boosting is an approach to machine learning based on the idea of combining many relatively weak and inaccurate rules to create highly accurate predictions. More specifically, the AdaBoost classifier is a meta-method that roughly follows this procedure:\n",
    "\n",
    "1. begins by training a simpler model on the original training dataset; \n",
    "2. adjusts the weights of incorrectly classified instances such that a subsequent iteration of the simpler model focuses more on difficult cases;\n",
    "3. trains the simpler model on the copied dataset with adjusted data weights;\n",
    "4. repeats these steps a number of times, and;\n",
    "5. combines the estimated parameters for the different iterations of the simpler model.\n",
    "\n",
    "In our application, the simpler model that is trained on each iteration of the AdaBoosting classifier is a decision tree. \n",
    "\n",
    "Decision trees are trained by splitting each feature in the data into a number of simple value regions. For example, whether a particular individual is younger or older than 40 years old and, given that distinction, whether this individual reports a positive capital gain. This particular segmentation would split our dataset into four groups of more similar individuals as a function of our outcome of interest.  \n",
    "\n",
    "In order to make a prediction for a given observation, we use the observed features and follow the tree branches into the correct data segment, and we classify the observation to the most commonly occurring outcome in that segment.\n",
    "\n",
    "**References:**\n",
    "- Freund, Y., Schapire, R. and Abe, N., 1999. A short introduction to boosting. Journal-Japanese Society For Artificial Intelligence, 14(771-780), p.1612.\n",
    "- Schapire, R.E., 2013. Explaining adaboost. In Empirical inference (pp. 37-52). Springer, Berlin, Heidelberg."
   ]
  },
  {
   "cell_type": "markdown",
   "metadata": {},
   "source": [
    "### Fine-tuning the algorithm using `GridSearchCV`\n",
    "\n",
    "`GridSearchCV` is a set of tools that allow us to fine-tune the parameters of an estimator. In this section I use these tools to improve the performance of the AdaBoost classifier."
   ]
  },
  {
   "cell_type": "code",
   "execution_count": 15,
   "metadata": {},
   "outputs": [],
   "source": [
    "# Import necessary libraries\n",
    "from sklearn.model_selection import GridSearchCV\n",
    "from sklearn.metrics import fbeta_score, make_scorer\n",
    "\n",
    "# Initialize the classifier\n",
    "clf = AdaBoostClassifier(random_state=42)\n",
    "\n",
    "# Create a dictionary of the parameters to tune\n",
    "# key = parameter name, value = list of values to test\n",
    "parameters = {'base_estimator':[DecisionTreeClassifier(max_depth=1), \n",
    "                                DecisionTreeClassifier(max_depth=2)],\n",
    "              'n_estimators':[25, 50, 100, 200, 400]}\n",
    "\n",
    "# Make an fbeta_score scoring object\n",
    "scorer = make_scorer(fbeta_score, beta=0.5)\n",
    "\n",
    "# Perform grid search on the classifier using 'scorer' \n",
    "grid_obj = GridSearchCV(estimator=clf, param_grid=parameters, \n",
    "                        scoring=scorer, cv=3)"
   ]
  },
  {
   "cell_type": "code",
   "execution_count": 16,
   "metadata": {},
   "outputs": [],
   "source": [
    "# Fit grid search object to training data and find optimal parameters\n",
    "grid_fit = grid_obj.fit(X_train, y_train)"
   ]
  },
  {
   "cell_type": "code",
   "execution_count": 17,
   "metadata": {},
   "outputs": [
    {
     "name": "stdout",
     "output_type": "stream",
     "text": [
      "Unoptimized model\n",
      "------\n",
      "Accuracy score on testing data: 0.8576\n",
      "F-score on testing data: 0.7246\n",
      "\n",
      "Optimized Model\n",
      "------\n",
      "Final accuracy score on the testing data: 0.8652\n",
      "Final F-score on the testing data: 0.7401\n"
     ]
    }
   ],
   "source": [
    "# Get the estimator\n",
    "best_clf = grid_fit.best_estimator_\n",
    "\n",
    "# Make predictions using the unoptimized model\n",
    "predictions = (clf.fit(X_train, y_train)).predict(X_test)\n",
    "\n",
    "# Make predictions using the optimized model\n",
    "best_predictions = best_clf.predict(X_test)\n",
    "\n",
    "# Report the before-and-afterscores\n",
    "print(\"Unoptimized model\\n------\")\n",
    "print(\"Accuracy score on testing data: {:.4f}\"\\\n",
    "      .format(accuracy_score(y_test, predictions)))\n",
    "print(\"F-score on testing data: {:.4f}\"\\\n",
    "      .format(fbeta_score(y_test, predictions, beta = 0.5)))\n",
    "print(\"\\nOptimized Model\\n------\")\n",
    "print(\"Final accuracy score on the testing data: {:.4f}\"\\\n",
    "      .format(accuracy_score(y_test, best_predictions)))\n",
    "print(\"Final F-score on the testing data: {:.4f}\"\\\n",
    "      .format(fbeta_score(y_test, best_predictions, beta = 0.5)))"
   ]
  },
  {
   "cell_type": "markdown",
   "metadata": {},
   "source": [
    "### Evaluating the optimized model\n",
    "\n",
    "The optimized model shows a slight improvement on both accuracy (~ 1\\% improvement) and F-score (~ 2\\% improvement).\n",
    "\n",
    "The optimized model is a significant improvement over the naive predictor benchmarks on both accuracy (from 25\\% to 86\\%) and F-score (from 29\\% to 74\\%).\n",
    "\n",
    "|     Metric     | Unoptimized Model | Optimized Model |\n",
    "| :------------: | :---------------: | :-------------: | \n",
    "| Accuracy Score |   0.8576          |      0.8652     |\n",
    "| F-score        |   0.7246          |      0.7401     |"
   ]
  },
  {
   "cell_type": "markdown",
   "metadata": {},
   "source": [
    "----\n",
    "## Assessing the importance of attributes in the data\n",
    "\n",
    "Before the widespread use of machine learning tools, like the ones included in scikit-learn, the selection of features to be used in the estimation of a predictive or causal inference model was mainly a manual task, which included conceptual and practical considerations. That is, the analyst would select the features in the data to be used based on their conceptual understanding of the problem as well as practical issues involving data quality. \n",
    "\n",
    "Here I will use scikit-learn's `feature_importances_` attribute — which is a function that ranks the importance of features according to the chosen classifier — to assess the predictive power of the different attributes in the census data. Understanding the relative importance of attributes may help in further iterations of the model; for instance, one could build a simpler and more interpretable model. "
   ]
  },
  {
   "cell_type": "markdown",
   "metadata": {},
   "source": [
    "### Guessing which attributes are important based on domain knowledge \n",
    "\n",
    "The most predictive features should be the ones that — holding everything else constant — more clearly separate the groups of individuals on each side of the $50k/year boundary.\n",
    "\n",
    "**1. capital-gain:** I'd think this is the most predictive feature since most individuals showing positive a `capital-gain` are likely to be making more than $50k/year.\n",
    "\n",
    "**2. workclass:** The categories in `workclass` seem important since I'd assume that individuals that are not working or that are woking without pay a very unlikely to be making more than $50k/year (given that we knoe their capital gain status).\n",
    "\n",
    "**3. education:** The `education` category has been shown to be tightly associated with income. Though I'm not sure that it should be more predictive than the features above.\n",
    "\n",
    "**4. age:** Older individuals should be more likely to be making more than $50k/year.\n",
    "\n",
    "**5. hours-per-week:** This is a logical driver of income, but given everything else we know about these individuals I doubt that `hours-per-week` is as good a boundary as the features above. "
   ]
  },
  {
   "cell_type": "markdown",
   "metadata": {},
   "source": [
    "### Assessing the actual predictive power of features \n",
    "\n",
    "Let's use scikit-learn's `feature_importances_` to assess the predictive power of the different attributes in the census data in the estimation of the optimized AdaBoost classifier. "
   ]
  },
  {
   "cell_type": "code",
   "execution_count": 18,
   "metadata": {},
   "outputs": [
    {
     "data": {
      "image/png": "[encoded data removed]",
      "text/plain": [
       "<Figure size 648x360 with 1 Axes>"
      ]
     },
     "metadata": {
      "needs_background": "light"
     },
     "output_type": "display_data"
    }
   ],
   "source": [
    "# Extract the feature importances\n",
    "importances = best_clf.feature_importances_ \n",
    "\n",
    "# Plot\n",
    "vs.feature_plot(importances, X_train, y_train)"
   ]
  },
  {
   "cell_type": "markdown",
   "metadata": {},
   "source": [
    "### Comparing conceptual hypotheses and actual predictive power\n",
    "\n",
    "The most predictive features are similar to the ones I discussed above, but there are relevant differences in the order. Importantly, I did not predict that `capital-loss` would be an important feature after accounting for `capital-gain`. However, `capital-loss` ended up being the second largest weight in the estimated AdaBoost model. \n",
    "\n",
    "The visualization above confirms that the features related to capital income are strongly associated with whether an individual makes more than \\\\$50k/year. Both `capital-loss` and `capital-gain` are strongly predictive. \n",
    "\n",
    "Features measuring the age and education of individuals are also strongly predictive, which is consistent with my hypotheses.  "
   ]
  },
  {
   "cell_type": "markdown",
   "metadata": {},
   "source": [
    "### Implementing feature selection\n",
    "\n",
    "From the visualization above, we see that the top five most important features contribute about 80\\% of the importance of all features present in the data. This hints that we can attempt to reduce the *feature space* and simplify the information required for the model to learn. With less features required to train, the expectation is that training and prediction time can be much lower — at the cost of a reasonable reduction in the performance metrics. \n",
    "\n",
    "Below I initiate the optimized AdaBoost classifier and estimate it on the training set with only the **top 5 features in predictive importance**. "
   ]
  },
  {
   "cell_type": "code",
   "execution_count": 19,
   "metadata": {},
   "outputs": [
    {
     "name": "stdout",
     "output_type": "stream",
     "text": [
      "Final Model trained on full data\n",
      "------\n",
      "Accuracy on testing data: 0.8652\n",
      "F-score on testing data: 0.7401\n",
      "\n",
      "Final Model trained on reduced data\n",
      "------\n",
      "Accuracy on testing data: 0.8417\n",
      "F-score on testing data: 0.7017\n"
     ]
    }
   ],
   "source": [
    "# Import functionality for cloning a model\n",
    "from sklearn.base import clone\n",
    "\n",
    "# Reduce the feature space to the top 5 important features\n",
    "# using the output of `best_clf.feature_importances_` \n",
    "X_train_reduced = X_train[X_train.columns\\\n",
    "                          .values[(np.argsort(importances)[::-1])[:5]]]\n",
    "X_test_reduced = X_test[X_test.columns\\\n",
    "                        .values[(np.argsort(importances)[::-1])[:5]]]\n",
    "\n",
    "# Train on the \"best\" model found from grid search earlier\n",
    "clf = (clone(best_clf)).fit(X_train_reduced, y_train)\n",
    "\n",
    "# Make new predictions\n",
    "reduced_predictions = clf.predict(X_test_reduced)\n",
    "\n",
    "# Report scores from the final model using both versions of data\n",
    "print(\"Final Model trained on full data\\n------\")\n",
    "print(\"Accuracy on testing data: {:.4f}\"\\\n",
    "      .format(accuracy_score(y_test, best_predictions)))\n",
    "print(\"F-score on testing data: {:.4f}\"\\\n",
    "      .format(fbeta_score(y_test, best_predictions, beta = 0.5)))\n",
    "print(\"\\nFinal Model trained on reduced data\\n------\")\n",
    "print(\"Accuracy on testing data: {:.4f}\"\\\n",
    "      .format(accuracy_score(y_test, reduced_predictions)))\n",
    "print(\"F-score on testing data: {:.4f}\"\\\n",
    "      .format(fbeta_score(y_test, reduced_predictions, beta = 0.5)))"
   ]
  },
  {
   "cell_type": "markdown",
   "metadata": {},
   "source": [
    "#### Question 8 - Effects of feature Selection\n",
    "\n",
    "As seen in the results printed above, testing performance decreased when using the reduced data. Accuracy went from 87% to 84%; F-score went from 74% to 70%.\n",
    "\n",
    "The optimized model with the reduced features space (5 top attributes) performs slightly worse than both the optimized and the unoptimized models with the full feature space. \n",
    "\n",
    "If training and predictions times were **critical** requirements for this tool, I would consider using the reduced feature space to improve execution time at the cost of a small drop in performance. As noted above, I can see how training and prediction times would be in a critical trade-off against performance in user-interfacing applications. \n",
    "\n",
    "But this specific classification tool is the type of backend application where, at the expense of training and prediction times, one should use all the available features of the data which the domain experts (i.e., fundraising team) believe may be relevant for prediction performance."
   ]
  },
  {
   "cell_type": "code",
   "execution_count": null,
   "metadata": {},
   "outputs": [],
   "source": []
  }
 ],
 "metadata": {
  "kernelspec": {
   "display_name": "Python [conda env:datascientist-nd]",
   "language": "python",
   "name": "conda-env-datascientist-nd-py"
  },
  "language_info": {
   "codemirror_mode": {
    "name": "ipython",
    "version": 3
   },
   "file_extension": ".py",
   "mimetype": "text/x-python",
   "name": "python",
   "nbconvert_exporter": "python",
   "pygments_lexer": "ipython3",
   "version": "3.7.1"
  },
  "toc": {
   "base_numbering": 1,
   "nav_menu": {},
   "number_sections": true,
   "sideBar": true,
   "skip_h1_title": false,
   "title_cell": "Table of Contents",
   "title_sidebar": "Contents",
   "toc_cell": false,
   "toc_position": {
    "height": "calc(100% - 180px)",
    "left": "10px",
    "top": "150px",
    "width": "180.9px"
   },
   "toc_section_display": true,
   "toc_window_display": false
  },
  "varInspector": {
   "cols": {
    "lenName": 16,
    "lenType": 16,
    "lenVar": 40
   },
   "kernels_config": {
    "python": {
     "delete_cmd_postfix": "",
     "delete_cmd_prefix": "del ",
     "library": "var_list.py",
     "varRefreshCmd": "print(var_dic_list())"
    },
    "r": {
     "delete_cmd_postfix": ") ",
     "delete_cmd_prefix": "rm(",
     "library": "var_list.r",
     "varRefreshCmd": "cat(var_dic_list()) "
    }
   },
   "types_to_exclude": [
    "module",
    "function",
    "builtin_function_or_method",
    "instance",
    "_Feature"
   ],
   "window_display": false
  }
 },
 "nbformat": 4,
 "nbformat_minor": 1
}
